{
 "cells": [
  {
   "attachments": {},
   "cell_type": "markdown",
   "metadata": {},
   "source": [
    "## Search for similar expressions"
   ]
  },
  {
   "cell_type": "code",
   "execution_count": 13,
   "metadata": {},
   "outputs": [],
   "source": [
    "import numpy as np\n",
    "import cv2 as cv\n",
    "import glob\n",
    "import base64\n",
    "from sklearn.cluster import KMeans\n",
    "import pandas as pd\n",
    "import joblib"
   ]
  },
  {
   "attachments": {},
   "cell_type": "markdown",
   "metadata": {},
   "source": [
    "SIFT"
   ]
  },
  {
   "cell_type": "code",
   "execution_count": 3,
   "metadata": {},
   "outputs": [
    {
     "data": {
      "text/plain": [
       "(186062, 128)"
      ]
     },
     "execution_count": 3,
     "metadata": {},
     "output_type": "execute_result"
    }
   ],
   "source": [
    "deses = list()\n",
    "folder_dir = \"C:/Users/andre/Downloads/train2017/*.jpg\"\n",
    "for i in glob.glob(folder_dir):\n",
    "    img = cv.imread(i)\n",
    "    gray = cv.cvtColor(img,cv.COLOR_BGR2GRAY)\n",
    "    sift = cv.SIFT_create()\n",
    "    kp, des = sift.detectAndCompute(gray,None)\n",
    "    deses.append(des)\n",
    "\n",
    "train = np.vstack(deses)\n",
    "train.shape"
   ]
  },
  {
   "attachments": {},
   "cell_type": "markdown",
   "metadata": {},
   "source": [
    "Обучаем модель"
   ]
  },
  {
   "cell_type": "code",
   "execution_count": 4,
   "metadata": {},
   "outputs": [
    {
     "data": {
      "text/html": [
       "<style>#sk-container-id-1 {color: black;background-color: white;}#sk-container-id-1 pre{padding: 0;}#sk-container-id-1 div.sk-toggleable {background-color: white;}#sk-container-id-1 label.sk-toggleable__label {cursor: pointer;display: block;width: 100%;margin-bottom: 0;padding: 0.3em;box-sizing: border-box;text-align: center;}#sk-container-id-1 label.sk-toggleable__label-arrow:before {content: \"▸\";float: left;margin-right: 0.25em;color: #696969;}#sk-container-id-1 label.sk-toggleable__label-arrow:hover:before {color: black;}#sk-container-id-1 div.sk-estimator:hover label.sk-toggleable__label-arrow:before {color: black;}#sk-container-id-1 div.sk-toggleable__content {max-height: 0;max-width: 0;overflow: hidden;text-align: left;background-color: #f0f8ff;}#sk-container-id-1 div.sk-toggleable__content pre {margin: 0.2em;color: black;border-radius: 0.25em;background-color: #f0f8ff;}#sk-container-id-1 input.sk-toggleable__control:checked~div.sk-toggleable__content {max-height: 200px;max-width: 100%;overflow: auto;}#sk-container-id-1 input.sk-toggleable__control:checked~label.sk-toggleable__label-arrow:before {content: \"▾\";}#sk-container-id-1 div.sk-estimator input.sk-toggleable__control:checked~label.sk-toggleable__label {background-color: #d4ebff;}#sk-container-id-1 div.sk-label input.sk-toggleable__control:checked~label.sk-toggleable__label {background-color: #d4ebff;}#sk-container-id-1 input.sk-hidden--visually {border: 0;clip: rect(1px 1px 1px 1px);clip: rect(1px, 1px, 1px, 1px);height: 1px;margin: -1px;overflow: hidden;padding: 0;position: absolute;width: 1px;}#sk-container-id-1 div.sk-estimator {font-family: monospace;background-color: #f0f8ff;border: 1px dotted black;border-radius: 0.25em;box-sizing: border-box;margin-bottom: 0.5em;}#sk-container-id-1 div.sk-estimator:hover {background-color: #d4ebff;}#sk-container-id-1 div.sk-parallel-item::after {content: \"\";width: 100%;border-bottom: 1px solid gray;flex-grow: 1;}#sk-container-id-1 div.sk-label:hover label.sk-toggleable__label {background-color: #d4ebff;}#sk-container-id-1 div.sk-serial::before {content: \"\";position: absolute;border-left: 1px solid gray;box-sizing: border-box;top: 0;bottom: 0;left: 50%;z-index: 0;}#sk-container-id-1 div.sk-serial {display: flex;flex-direction: column;align-items: center;background-color: white;padding-right: 0.2em;padding-left: 0.2em;position: relative;}#sk-container-id-1 div.sk-item {position: relative;z-index: 1;}#sk-container-id-1 div.sk-parallel {display: flex;align-items: stretch;justify-content: center;background-color: white;position: relative;}#sk-container-id-1 div.sk-item::before, #sk-container-id-1 div.sk-parallel-item::before {content: \"\";position: absolute;border-left: 1px solid gray;box-sizing: border-box;top: 0;bottom: 0;left: 50%;z-index: -1;}#sk-container-id-1 div.sk-parallel-item {display: flex;flex-direction: column;z-index: 1;position: relative;background-color: white;}#sk-container-id-1 div.sk-parallel-item:first-child::after {align-self: flex-end;width: 50%;}#sk-container-id-1 div.sk-parallel-item:last-child::after {align-self: flex-start;width: 50%;}#sk-container-id-1 div.sk-parallel-item:only-child::after {width: 0;}#sk-container-id-1 div.sk-dashed-wrapped {border: 1px dashed gray;margin: 0 0.4em 0.5em 0.4em;box-sizing: border-box;padding-bottom: 0.4em;background-color: white;}#sk-container-id-1 div.sk-label label {font-family: monospace;font-weight: bold;display: inline-block;line-height: 1.2em;}#sk-container-id-1 div.sk-label-container {text-align: center;}#sk-container-id-1 div.sk-container {/* jupyter's `normalize.less` sets `[hidden] { display: none; }` but bootstrap.min.css set `[hidden] { display: none !important; }` so we also need the `!important` here to be able to override the default hidden behavior on the sphinx rendered scikit-learn.org. See: https://github.com/scikit-learn/scikit-learn/issues/21755 */display: inline-block !important;position: relative;}#sk-container-id-1 div.sk-text-repr-fallback {display: none;}</style><div id=\"sk-container-id-1\" class=\"sk-top-container\"><div class=\"sk-text-repr-fallback\"><pre>KMeans(n_clusters=512)</pre><b>In a Jupyter environment, please rerun this cell to show the HTML representation or trust the notebook. <br />On GitHub, the HTML representation is unable to render, please try loading this page with nbviewer.org.</b></div><div class=\"sk-container\" hidden><div class=\"sk-item\"><div class=\"sk-estimator sk-toggleable\"><input class=\"sk-toggleable__control sk-hidden--visually\" id=\"sk-estimator-id-1\" type=\"checkbox\" checked><label for=\"sk-estimator-id-1\" class=\"sk-toggleable__label sk-toggleable__label-arrow\">KMeans</label><div class=\"sk-toggleable__content\"><pre>KMeans(n_clusters=512)</pre></div></div></div></div></div>"
      ],
      "text/plain": [
       "KMeans(n_clusters=512)"
      ]
     },
     "execution_count": 4,
     "metadata": {},
     "output_type": "execute_result"
    }
   ],
   "source": [
    "model = KMeans(n_clusters=512)\n",
    "model.fit(train)"
   ]
  },
  {
   "attachments": {},
   "cell_type": "markdown",
   "metadata": {},
   "source": [
    "Сохраняем модель"
   ]
  },
  {
   "cell_type": "code",
   "execution_count": 5,
   "metadata": {},
   "outputs": [
    {
     "data": {
      "text/plain": [
       "['model.sav']"
      ]
     },
     "execution_count": 5,
     "metadata": {},
     "output_type": "execute_result"
    }
   ],
   "source": [
    "#save = pickle.dumps(model)\n",
    "joblib.dump(model, 'model.sav')"
   ]
  },
  {
   "attachments": {},
   "cell_type": "markdown",
   "metadata": {},
   "source": [
    "Используем сохранённую модель для получения множества классов"
   ]
  },
  {
   "cell_type": "code",
   "execution_count": 6,
   "metadata": {},
   "outputs": [],
   "source": [
    "#load = pickle.loads(save)\n",
    "load = joblib.load('model.sav')"
   ]
  },
  {
   "cell_type": "code",
   "execution_count": 14,
   "metadata": {},
   "outputs": [],
   "source": [
    "path = list()\n",
    "embeddings = list()\n",
    "for i in glob.glob('C:/Users/andre/Downloads/JPEGImages/*.jpg'):\n",
    "    img = cv.imread(i)\n",
    "    gray = cv.cvtColor(img,cv.COLOR_BGR2GRAY)\n",
    "    sift = cv.SIFT_create()\n",
    "    kp, des = sift.detectAndCompute(gray,None)\n",
    "    if des is not None: \n",
    "        path.append(i)\n",
    "        embeddings.append(base64.b64encode(load.predict(des)))"
   ]
  },
  {
   "attachments": {},
   "cell_type": "markdown",
   "metadata": {},
   "source": [
    "Создаём таблицу"
   ]
  },
  {
   "cell_type": "code",
   "execution_count": 16,
   "metadata": {},
   "outputs": [
    {
     "name": "stderr",
     "output_type": "stream",
     "text": [
      "C:\\Users\\andre\\AppData\\Local\\Temp\\ipykernel_20724\\1778191709.py:3: FutureWarning: The default value of regex will change from True to False in a future version. In addition, single character regular expressions will *not* be treated as literal strings when regex=True.\n",
      "  df['path'] = df['path'].str.replace('\\\\', '/')\n"
     ]
    }
   ],
   "source": [
    "df = pd.DataFrame(data={'path': path,'embedding': embeddings})\n",
    "# Исправляем путь\n",
    "df['path'] = df['path'].str.replace('\\\\', '/')\n",
    "df.to_csv('data.csv', index=False)"
   ]
  },
  {
   "attachments": {},
   "cell_type": "markdown",
   "metadata": {},
   "source": [
    "Итог"
   ]
  },
  {
   "cell_type": "code",
   "execution_count": 17,
   "metadata": {},
   "outputs": [
    {
     "data": {
      "text/html": [
       "<div>\n",
       "<style scoped>\n",
       "    .dataframe tbody tr th:only-of-type {\n",
       "        vertical-align: middle;\n",
       "    }\n",
       "\n",
       "    .dataframe tbody tr th {\n",
       "        vertical-align: top;\n",
       "    }\n",
       "\n",
       "    .dataframe thead th {\n",
       "        text-align: right;\n",
       "    }\n",
       "</style>\n",
       "<table border=\"1\" class=\"dataframe\">\n",
       "  <thead>\n",
       "    <tr style=\"text-align: right;\">\n",
       "      <th></th>\n",
       "      <th>path</th>\n",
       "      <th>embedding</th>\n",
       "    </tr>\n",
       "  </thead>\n",
       "  <tbody>\n",
       "    <tr>\n",
       "      <th>0</th>\n",
       "      <td>C:/Users/andre/Downloads/JPEGImages/2007_00002...</td>\n",
       "      <td>[372, 341, 323, 453, 429, 403, 156, 50, 2, 324...</td>\n",
       "    </tr>\n",
       "    <tr>\n",
       "      <th>1</th>\n",
       "      <td>C:/Users/andre/Downloads/JPEGImages/2007_00003...</td>\n",
       "      <td>[309, 346, 298, 481, 37, 189, 298, 148, 29, 18...</td>\n",
       "    </tr>\n",
       "    <tr>\n",
       "      <th>2</th>\n",
       "      <td>C:/Users/andre/Downloads/JPEGImages/2007_00003...</td>\n",
       "      <td>[378, 323, 407, 329, 494, 212, 397, 111, 341, ...</td>\n",
       "    </tr>\n",
       "    <tr>\n",
       "      <th>3</th>\n",
       "      <td>C:/Users/andre/Downloads/JPEGImages/2007_00003...</td>\n",
       "      <td>[171, 88, 424, 373, 373, 373, 258, 259, 258, 2...</td>\n",
       "    </tr>\n",
       "    <tr>\n",
       "      <th>4</th>\n",
       "      <td>C:/Users/andre/Downloads/JPEGImages/2007_00004...</td>\n",
       "      <td>[359, 478, 281, 492, 241, 10, 10, 391, 324, 39...</td>\n",
       "    </tr>\n",
       "    <tr>\n",
       "      <th>...</th>\n",
       "      <td>...</td>\n",
       "      <td>...</td>\n",
       "    </tr>\n",
       "    <tr>\n",
       "      <th>17119</th>\n",
       "      <td>C:/Users/andre/Downloads/JPEGImages/2012_00432...</td>\n",
       "      <td>[324, 67, 251, 479, 458, 373, 479, 125, 409, 4...</td>\n",
       "    </tr>\n",
       "    <tr>\n",
       "      <th>17120</th>\n",
       "      <td>C:/Users/andre/Downloads/JPEGImages/2012_00432...</td>\n",
       "      <td>[266, 387, 383, 12, 205, 322, 35, 293, 329, 44...</td>\n",
       "    </tr>\n",
       "    <tr>\n",
       "      <th>17121</th>\n",
       "      <td>C:/Users/andre/Downloads/JPEGImages/2012_00432...</td>\n",
       "      <td>[372, 387, 353, 183, 33, 56, 84, 42, 42, 327, ...</td>\n",
       "    </tr>\n",
       "    <tr>\n",
       "      <th>17122</th>\n",
       "      <td>C:/Users/andre/Downloads/JPEGImages/2012_00433...</td>\n",
       "      <td>[218, 50, 65, 447, 261, 54, 363, 143, 439, 511...</td>\n",
       "    </tr>\n",
       "    <tr>\n",
       "      <th>17123</th>\n",
       "      <td>C:/Users/andre/Downloads/JPEGImages/2012_00433...</td>\n",
       "      <td>[421, 128, 71, 120, 223, 223, 42, 223, 206, 20...</td>\n",
       "    </tr>\n",
       "  </tbody>\n",
       "</table>\n",
       "<p>17124 rows × 2 columns</p>\n",
       "</div>"
      ],
      "text/plain": [
       "                                                    path  \\\n",
       "0      C:/Users/andre/Downloads/JPEGImages/2007_00002...   \n",
       "1      C:/Users/andre/Downloads/JPEGImages/2007_00003...   \n",
       "2      C:/Users/andre/Downloads/JPEGImages/2007_00003...   \n",
       "3      C:/Users/andre/Downloads/JPEGImages/2007_00003...   \n",
       "4      C:/Users/andre/Downloads/JPEGImages/2007_00004...   \n",
       "...                                                  ...   \n",
       "17119  C:/Users/andre/Downloads/JPEGImages/2012_00432...   \n",
       "17120  C:/Users/andre/Downloads/JPEGImages/2012_00432...   \n",
       "17121  C:/Users/andre/Downloads/JPEGImages/2012_00432...   \n",
       "17122  C:/Users/andre/Downloads/JPEGImages/2012_00433...   \n",
       "17123  C:/Users/andre/Downloads/JPEGImages/2012_00433...   \n",
       "\n",
       "                                               embedding  \n",
       "0      [372, 341, 323, 453, 429, 403, 156, 50, 2, 324...  \n",
       "1      [309, 346, 298, 481, 37, 189, 298, 148, 29, 18...  \n",
       "2      [378, 323, 407, 329, 494, 212, 397, 111, 341, ...  \n",
       "3      [171, 88, 424, 373, 373, 373, 258, 259, 258, 2...  \n",
       "4      [359, 478, 281, 492, 241, 10, 10, 391, 324, 39...  \n",
       "...                                                  ...  \n",
       "17119  [324, 67, 251, 479, 458, 373, 479, 125, 409, 4...  \n",
       "17120  [266, 387, 383, 12, 205, 322, 35, 293, 329, 44...  \n",
       "17121  [372, 387, 353, 183, 33, 56, 84, 42, 42, 327, ...  \n",
       "17122  [218, 50, 65, 447, 261, 54, 363, 143, 439, 511...  \n",
       "17123  [421, 128, 71, 120, 223, 223, 42, 223, 206, 20...  \n",
       "\n",
       "[17124 rows x 2 columns]"
      ]
     },
     "execution_count": 17,
     "metadata": {},
     "output_type": "execute_result"
    }
   ],
   "source": [
    "data = pd.read_csv(\"data.csv\", delimiter=',')\n",
    "data['embedding'] = data['embedding'].apply(lambda x: np.frombuffer(base64.b64decode(bytes(x[2:-1],encoding='ascii')), dtype=np.int32))\n",
    "data"
   ]
  },
  {
   "attachments": {},
   "cell_type": "markdown",
   "metadata": {},
   "source": [
    "Расчет количества вхождения в каждый кластер"
   ]
  },
  {
   "cell_type": "code",
   "execution_count": 18,
   "metadata": {},
   "outputs": [
    {
     "data": {
      "text/plain": [
       "0        b'BAICAwQCBgIFAAEGBAIGBQMEAwMIBQQBBQYCAAAHAgAC...\n",
       "1        b'AAACAAMAAAIAAAgAAAAEAAAAAQAAAQAEAQAAEQADAgIA...\n",
       "2        b'AAAAAQAAAQAAAgEAAAIAAAEAAQEAAAEBAQEBAQEBAQAB...\n",
       "3        b'AgABAAIBAAAAAQUABgADAAAAAAABAAABAAABAAICAQAB...\n",
       "4        b'AgEKAAAAAQEAABkAAQACAAEAAAAAAwABAgAAAQADAgMB...\n",
       "                               ...                        \n",
       "17119    b'AgEAAgIAAAEBBwAAAgADAQAAAAEDAgMAAAEFAAUDAAEA...\n",
       "17120    b'AgQAAgIBAgIHBQAABwMDAwAAAAIBAwEFBgABAAYBAAED...\n",
       "17121    b'AwQAAQEBAAICBAQAAgIBAQAAAAICAAIAAwECAQMFAwAB...\n",
       "17122    b'AgEEAAgBAQECCAEBAQEAAAABAgEDAgEAAAEEAAUAAgEG...\n",
       "17123    b'BAIABAMAAAAAAQIABQEBAgIAAAADAAIAAAAAAQECAAAE...\n",
       "Name: embedding, Length: 17124, dtype: object"
      ]
     },
     "execution_count": 18,
     "metadata": {},
     "output_type": "execute_result"
    }
   ],
   "source": [
    "matrix=np.zeros((len(data),512),dtype=np.uint8)\n",
    "for j in range (len(data)):\n",
    "    for i in range (len(data['embedding'][j])):\n",
    "        matrix[j,data['embedding'][j][i]] += 1\n",
    "    data['embedding'][j] = (base64.b64encode(matrix[j]))\n",
    "data.to_csv('data1.csv',index=False) \n",
    "data['embedding']"
   ]
  }
 ],
 "metadata": {
  "kernelspec": {
   "display_name": "Python 3",
   "language": "python",
   "name": "python3"
  },
  "language_info": {
   "codemirror_mode": {
    "name": "ipython",
    "version": 3
   },
   "file_extension": ".py",
   "mimetype": "text/x-python",
   "name": "python",
   "nbconvert_exporter": "python",
   "pygments_lexer": "ipython3",
   "version": "3.10.9"
  },
  "orig_nbformat": 4,
  "vscode": {
   "interpreter": {
    "hash": "cc2a200e1e6dab10c4dc3986f0e7a998296447c993c26561a1bd050a849d8214"
   }
  }
 },
 "nbformat": 4,
 "nbformat_minor": 2
}
